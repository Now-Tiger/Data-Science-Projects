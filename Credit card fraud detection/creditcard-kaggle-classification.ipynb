{
 "cells": [
  {
   "cell_type": "code",
   "execution_count": 43,
   "id": "619ca1bc",
   "metadata": {},
   "outputs": [],
   "source": [
    "%matplotlib inline\n",
    "from warnings import filterwarnings\n",
    "filterwarnings(\"ignore\")\n",
    "\n",
    "import pandas as pd\n",
    "import numpy as np\n",
    "\n",
    "import seaborn as sns\n",
    "import matplotlib.pyplot as plt\n",
    "\n",
    "from sklearn.linear_model import LogisticRegression, SGDClassifier\n",
    "from sklearn.neighbors import KNeighborsClassifier\n",
    "from sklearn.neural_network import MLPClassifier\n",
    "# from sklearn.svm import LinearSVC\n",
    "\n",
    "from sklearn.model_selection import train_test_split as tts\n",
    "from sklearn.preprocessing import PowerTransformer, StandardScaler, MinMaxScaler, PolynomialFeatures\n",
    "from sklearn.metrics import recall_score, accuracy_score, confusion_matrix, classification_report, roc_curve, roc_auc_score\n",
    "# from sklearn.decomposition import PCA"
   ]
  },
  {
   "cell_type": "code",
   "execution_count": 2,
   "id": "a27683e8",
   "metadata": {},
   "outputs": [
    {
     "data": {
      "text/html": [
       "<div>\n",
       "<style scoped>\n",
       "    .dataframe tbody tr th:only-of-type {\n",
       "        vertical-align: middle;\n",
       "    }\n",
       "\n",
       "    .dataframe tbody tr th {\n",
       "        vertical-align: top;\n",
       "    }\n",
       "\n",
       "    .dataframe thead th {\n",
       "        text-align: right;\n",
       "    }\n",
       "</style>\n",
       "<table border=\"1\" class=\"dataframe\">\n",
       "  <thead>\n",
       "    <tr style=\"text-align: right;\">\n",
       "      <th></th>\n",
       "      <th>Time</th>\n",
       "      <th>V1</th>\n",
       "      <th>V2</th>\n",
       "      <th>V3</th>\n",
       "      <th>V4</th>\n",
       "      <th>V5</th>\n",
       "      <th>V6</th>\n",
       "      <th>V7</th>\n",
       "      <th>V8</th>\n",
       "      <th>V9</th>\n",
       "      <th>...</th>\n",
       "      <th>V21</th>\n",
       "      <th>V22</th>\n",
       "      <th>V23</th>\n",
       "      <th>V24</th>\n",
       "      <th>V25</th>\n",
       "      <th>V26</th>\n",
       "      <th>V27</th>\n",
       "      <th>V28</th>\n",
       "      <th>Amount</th>\n",
       "      <th>Class</th>\n",
       "    </tr>\n",
       "  </thead>\n",
       "  <tbody>\n",
       "    <tr>\n",
       "      <th>0</th>\n",
       "      <td>0.0</td>\n",
       "      <td>-1.359807</td>\n",
       "      <td>-0.072781</td>\n",
       "      <td>2.536347</td>\n",
       "      <td>1.378155</td>\n",
       "      <td>-0.338321</td>\n",
       "      <td>0.462388</td>\n",
       "      <td>0.239599</td>\n",
       "      <td>0.098698</td>\n",
       "      <td>0.363787</td>\n",
       "      <td>...</td>\n",
       "      <td>-0.018307</td>\n",
       "      <td>0.277838</td>\n",
       "      <td>-0.110474</td>\n",
       "      <td>0.066928</td>\n",
       "      <td>0.128539</td>\n",
       "      <td>-0.189115</td>\n",
       "      <td>0.133558</td>\n",
       "      <td>-0.021053</td>\n",
       "      <td>149.62</td>\n",
       "      <td>0</td>\n",
       "    </tr>\n",
       "    <tr>\n",
       "      <th>1</th>\n",
       "      <td>0.0</td>\n",
       "      <td>1.191857</td>\n",
       "      <td>0.266151</td>\n",
       "      <td>0.166480</td>\n",
       "      <td>0.448154</td>\n",
       "      <td>0.060018</td>\n",
       "      <td>-0.082361</td>\n",
       "      <td>-0.078803</td>\n",
       "      <td>0.085102</td>\n",
       "      <td>-0.255425</td>\n",
       "      <td>...</td>\n",
       "      <td>-0.225775</td>\n",
       "      <td>-0.638672</td>\n",
       "      <td>0.101288</td>\n",
       "      <td>-0.339846</td>\n",
       "      <td>0.167170</td>\n",
       "      <td>0.125895</td>\n",
       "      <td>-0.008983</td>\n",
       "      <td>0.014724</td>\n",
       "      <td>2.69</td>\n",
       "      <td>0</td>\n",
       "    </tr>\n",
       "    <tr>\n",
       "      <th>2</th>\n",
       "      <td>1.0</td>\n",
       "      <td>-1.358354</td>\n",
       "      <td>-1.340163</td>\n",
       "      <td>1.773209</td>\n",
       "      <td>0.379780</td>\n",
       "      <td>-0.503198</td>\n",
       "      <td>1.800499</td>\n",
       "      <td>0.791461</td>\n",
       "      <td>0.247676</td>\n",
       "      <td>-1.514654</td>\n",
       "      <td>...</td>\n",
       "      <td>0.247998</td>\n",
       "      <td>0.771679</td>\n",
       "      <td>0.909412</td>\n",
       "      <td>-0.689281</td>\n",
       "      <td>-0.327642</td>\n",
       "      <td>-0.139097</td>\n",
       "      <td>-0.055353</td>\n",
       "      <td>-0.059752</td>\n",
       "      <td>378.66</td>\n",
       "      <td>0</td>\n",
       "    </tr>\n",
       "    <tr>\n",
       "      <th>3</th>\n",
       "      <td>1.0</td>\n",
       "      <td>-0.966272</td>\n",
       "      <td>-0.185226</td>\n",
       "      <td>1.792993</td>\n",
       "      <td>-0.863291</td>\n",
       "      <td>-0.010309</td>\n",
       "      <td>1.247203</td>\n",
       "      <td>0.237609</td>\n",
       "      <td>0.377436</td>\n",
       "      <td>-1.387024</td>\n",
       "      <td>...</td>\n",
       "      <td>-0.108300</td>\n",
       "      <td>0.005274</td>\n",
       "      <td>-0.190321</td>\n",
       "      <td>-1.175575</td>\n",
       "      <td>0.647376</td>\n",
       "      <td>-0.221929</td>\n",
       "      <td>0.062723</td>\n",
       "      <td>0.061458</td>\n",
       "      <td>123.50</td>\n",
       "      <td>0</td>\n",
       "    </tr>\n",
       "    <tr>\n",
       "      <th>4</th>\n",
       "      <td>2.0</td>\n",
       "      <td>-1.158233</td>\n",
       "      <td>0.877737</td>\n",
       "      <td>1.548718</td>\n",
       "      <td>0.403034</td>\n",
       "      <td>-0.407193</td>\n",
       "      <td>0.095921</td>\n",
       "      <td>0.592941</td>\n",
       "      <td>-0.270533</td>\n",
       "      <td>0.817739</td>\n",
       "      <td>...</td>\n",
       "      <td>-0.009431</td>\n",
       "      <td>0.798278</td>\n",
       "      <td>-0.137458</td>\n",
       "      <td>0.141267</td>\n",
       "      <td>-0.206010</td>\n",
       "      <td>0.502292</td>\n",
       "      <td>0.219422</td>\n",
       "      <td>0.215153</td>\n",
       "      <td>69.99</td>\n",
       "      <td>0</td>\n",
       "    </tr>\n",
       "  </tbody>\n",
       "</table>\n",
       "<p>5 rows × 31 columns</p>\n",
       "</div>"
      ],
      "text/plain": [
       "   Time        V1        V2        V3        V4        V5        V6        V7  \\\n",
       "0   0.0 -1.359807 -0.072781  2.536347  1.378155 -0.338321  0.462388  0.239599   \n",
       "1   0.0  1.191857  0.266151  0.166480  0.448154  0.060018 -0.082361 -0.078803   \n",
       "2   1.0 -1.358354 -1.340163  1.773209  0.379780 -0.503198  1.800499  0.791461   \n",
       "3   1.0 -0.966272 -0.185226  1.792993 -0.863291 -0.010309  1.247203  0.237609   \n",
       "4   2.0 -1.158233  0.877737  1.548718  0.403034 -0.407193  0.095921  0.592941   \n",
       "\n",
       "         V8        V9  ...       V21       V22       V23       V24       V25  \\\n",
       "0  0.098698  0.363787  ... -0.018307  0.277838 -0.110474  0.066928  0.128539   \n",
       "1  0.085102 -0.255425  ... -0.225775 -0.638672  0.101288 -0.339846  0.167170   \n",
       "2  0.247676 -1.514654  ...  0.247998  0.771679  0.909412 -0.689281 -0.327642   \n",
       "3  0.377436 -1.387024  ... -0.108300  0.005274 -0.190321 -1.175575  0.647376   \n",
       "4 -0.270533  0.817739  ... -0.009431  0.798278 -0.137458  0.141267 -0.206010   \n",
       "\n",
       "        V26       V27       V28  Amount  Class  \n",
       "0 -0.189115  0.133558 -0.021053  149.62      0  \n",
       "1  0.125895 -0.008983  0.014724    2.69      0  \n",
       "2 -0.139097 -0.055353 -0.059752  378.66      0  \n",
       "3 -0.221929  0.062723  0.061458  123.50      0  \n",
       "4  0.502292  0.219422  0.215153   69.99      0  \n",
       "\n",
       "[5 rows x 31 columns]"
      ]
     },
     "execution_count": 2,
     "metadata": {},
     "output_type": "execute_result"
    }
   ],
   "source": [
    "data = pd.read_csv(\"creditcard.csv\")\n",
    "data.head()"
   ]
  },
  {
   "cell_type": "code",
   "execution_count": 3,
   "id": "0343cce9",
   "metadata": {},
   "outputs": [
    {
     "name": "stdout",
     "output_type": "stream",
     "text": [
      "['Time', 'V1', 'V2', 'V3', 'V4', 'V5', 'V6', 'V7', 'V8', 'V9', 'V10', 'V11', 'V12', 'V13', 'V14', 'V15', 'V16', 'V17', 'V18', 'V19', 'V20', 'V21', 'V22', 'V23', 'V24', 'V25', 'V26', 'V27', 'V28', 'Amount', 'Class'], "
     ]
    }
   ],
   "source": [
    "print(list(data.columns), end = ', ')"
   ]
  },
  {
   "cell_type": "markdown",
   "id": "c19e30cf",
   "metadata": {},
   "source": [
    "## Normalizing the Amount feature in both datasets:"
   ]
  },
  {
   "cell_type": "code",
   "execution_count": 4,
   "id": "4fc944ca",
   "metadata": {},
   "outputs": [
    {
     "data": {
      "image/png": "[encoded data removed]",
      "text/plain": [
       "<Figure size 720x432 with 1 Axes>"
      ]
     },
     "metadata": {},
     "output_type": "display_data"
    }
   ],
   "source": [
    "plt.style.use(\"seaborn-whitegrid\")\n",
    "data['Amount'].hist(color = sns.color_palette(\"GnBu_r\", 1), figsize = (10, 6))\n",
    "plt.xlabel(\"Amount\", fontsize = 12)\n",
    "plt.show()"
   ]
  },
  {
   "cell_type": "code",
   "execution_count": 5,
   "id": "595b1940",
   "metadata": {},
   "outputs": [
    {
     "data": {
      "image/png": "[encoded data removed]",
      "text/plain": [
       "<Figure size 800x480 with 1 Axes>"
      ]
     },
     "metadata": {},
     "output_type": "display_data"
    }
   ],
   "source": [
    "# --- Normalized 'Amount' feature ---\n",
    "plt.figure(figsize=(10, 6), dpi = 80)\n",
    "plt.hist(np.log(data['Amount']+1), color = 'teal')\n",
    "plt.xlabel(\"Amount\", fontsize = 12)\n",
    "plt.ylabel(\"count\")\n",
    "plt.title(\"Amount feature normalized\")\n",
    "plt.show()"
   ]
  },
  {
   "cell_type": "code",
   "execution_count": 6,
   "id": "35bee944",
   "metadata": {},
   "outputs": [
    {
     "data": {
      "text/plain": [
       "0    149.62\n",
       "1      2.69\n",
       "2    378.66\n",
       "3    123.50\n",
       "4     69.99\n",
       "Name: Amount, dtype: float64"
      ]
     },
     "execution_count": 6,
     "metadata": {},
     "output_type": "execute_result"
    }
   ],
   "source": [
    "data['Amount'].head()"
   ]
  },
  {
   "cell_type": "code",
   "execution_count": 7,
   "id": "84939f29",
   "metadata": {},
   "outputs": [
    {
     "data": {
      "text/plain": [
       "0    0.244964\n",
       "1   -0.342475\n",
       "2    1.160686\n",
       "3    0.140534\n",
       "4   -0.073403\n",
       "Name: Amount, dtype: float64"
      ]
     },
     "execution_count": 7,
     "metadata": {},
     "output_type": "execute_result"
    }
   ],
   "source": [
    "data[\"Amount\"] = StandardScaler().fit_transform(data[\"Amount\"].values.reshape(-1, 1))\n",
    "data[\"Amount\"].head()"
   ]
  },
  {
   "cell_type": "code",
   "execution_count": null,
   "id": "97d4b0c4",
   "metadata": {},
   "outputs": [],
   "source": []
  },
  {
   "cell_type": "markdown",
   "id": "6bd9a66b",
   "metadata": {},
   "source": [
    "## Imbalanced Target feature."
   ]
  },
  {
   "cell_type": "code",
   "execution_count": 8,
   "id": "95a8bdc7",
   "metadata": {},
   "outputs": [
    {
     "data": {
      "text/plain": [
       "0    284315\n",
       "1       492\n",
       "Name: Class, dtype: int64"
      ]
     },
     "execution_count": 8,
     "metadata": {},
     "output_type": "execute_result"
    }
   ],
   "source": [
    "data['Class'].value_counts()"
   ]
  },
  {
   "cell_type": "code",
   "execution_count": 9,
   "id": "5793638d",
   "metadata": {},
   "outputs": [
    {
     "data": {
      "image/png": "[encoded data removed]",
      "text/plain": [
       "<Figure size 640x400 with 1 Axes>"
      ]
     },
     "metadata": {},
     "output_type": "display_data"
    }
   ],
   "source": [
    "plt.figure(figsize=(8, 5), dpi = 80)\n",
    "sns.countplot(data['Class'], palette=\"GnBu_r\", saturation = .9);"
   ]
  },
  {
   "cell_type": "code",
   "execution_count": 10,
   "id": "049e1295",
   "metadata": {},
   "outputs": [
    {
     "name": "stdout",
     "output_type": "stream",
     "text": [
      "class 0: (284315, 31) | class 1: (492, 31)\n"
     ]
    }
   ],
   "source": [
    "class_count_0, class_count_1 = data['Class'].value_counts()\n",
    "\n",
    "class_0 = data[data['Class'] == 0]\n",
    "class_1 = data[data['Class'] == 1]\n",
    "\n",
    "print(f\"class 0: {class_0.shape} | class 1: {class_1.shape}\")"
   ]
  },
  {
   "cell_type": "markdown",
   "id": "fb5e0bc4",
   "metadata": {},
   "source": [
    "## Undersampling to balance the imbalanced dataset:"
   ]
  },
  {
   "cell_type": "code",
   "execution_count": 11,
   "id": "73bf0ebe",
   "metadata": {},
   "outputs": [
    {
     "data": {
      "text/plain": [
       "0    492\n",
       "1    492\n",
       "Name: Class, dtype: int64"
      ]
     },
     "execution_count": 11,
     "metadata": {},
     "output_type": "execute_result"
    }
   ],
   "source": [
    "class_0_under = class_0.sample(class_count_1)\n",
    "\n",
    "data_under = pd.concat([class_0_under, class_1], axis = 0)\n",
    "data_under['Class'].value_counts()"
   ]
  },
  {
   "cell_type": "markdown",
   "id": "66ca443d",
   "metadata": {},
   "source": [
    "## Oversampling:"
   ]
  },
  {
   "cell_type": "code",
   "execution_count": 12,
   "id": "5169aab8",
   "metadata": {},
   "outputs": [
    {
     "data": {
      "text/plain": [
       "1    284315\n",
       "0    284315\n",
       "Name: Class, dtype: int64"
      ]
     },
     "execution_count": 12,
     "metadata": {},
     "output_type": "execute_result"
    }
   ],
   "source": [
    "class_1_over = class_1.sample(class_count_0, replace = True)\n",
    "\n",
    "data_over = pd.concat([class_1_over, class_0], axis = 0)\n",
    "data_over['Class'].value_counts()"
   ]
  },
  {
   "cell_type": "code",
   "execution_count": 13,
   "id": "a0817c48",
   "metadata": {},
   "outputs": [],
   "source": [
    "# --- Remove Time feature from both datasets ---\n",
    "data_under.drop(['Time'], axis = 1, inplace = True)\n",
    "data_over.drop(['Time'], axis = 1, inplace = True)"
   ]
  },
  {
   "cell_type": "code",
   "execution_count": 14,
   "id": "2a995204",
   "metadata": {},
   "outputs": [],
   "source": [
    "y_under = data_under.pop('Class')\n",
    "X_under = data_under\n",
    "# ------------------------------\n",
    "y_over = data_over.pop('Class')\n",
    "X_over = data_over"
   ]
  },
  {
   "cell_type": "code",
   "execution_count": 15,
   "id": "c3474c19",
   "metadata": {},
   "outputs": [
    {
     "data": {
      "text/plain": [
       "((568630, 29), (984, 29))"
      ]
     },
     "execution_count": 15,
     "metadata": {},
     "output_type": "execute_result"
    }
   ],
   "source": [
    "X_over.shape, X_under.shape"
   ]
  },
  {
   "cell_type": "markdown",
   "id": "3ec30ddd",
   "metadata": {},
   "source": [
    "## Split the datasets:"
   ]
  },
  {
   "cell_type": "code",
   "execution_count": 16,
   "id": "1bab1ec2",
   "metadata": {},
   "outputs": [],
   "source": [
    "train_inputs, test_inputs, train_target, test_target = tts(X_under, y_under, test_size = .20, random_state = 42)\n",
    "# -----------\n",
    "trainInputs, testInputs, trainTarget, testTarget = tts(X_over, y_over, test_size = .30, random_state = 42) "
   ]
  },
  {
   "cell_type": "markdown",
   "id": "6de3388a",
   "metadata": {},
   "source": [
    "## Model fitting on udersampled dataset:"
   ]
  },
  {
   "cell_type": "code",
   "execution_count": 17,
   "id": "a4009580",
   "metadata": {},
   "outputs": [],
   "source": [
    "logistic = LogisticRegression(C = 100, \n",
    "                              penalty = \"l1\", \n",
    "                              max_iter = 200, \n",
    "                              solver = 'liblinear').fit(train_inputs, train_target)"
   ]
  },
  {
   "cell_type": "code",
   "execution_count": 18,
   "id": "43f6e533",
   "metadata": {},
   "outputs": [
    {
     "name": "stdout",
     "output_type": "stream",
     "text": [
      "training accuracy: 0.95\n",
      "--------------------\n",
      "test accuracy: 0.929\n"
     ]
    }
   ],
   "source": [
    "print(f\"training accuracy: {round(logistic.score(train_inputs, train_target), 3)}\")\n",
    "print('-' * 20)\n",
    "print(f\"test accuracy: {round(logistic.score(test_inputs, test_target), 3)}\")"
   ]
  },
  {
   "cell_type": "code",
   "execution_count": 19,
   "id": "65a2e8b2",
   "metadata": {},
   "outputs": [
    {
     "data": {
      "text/plain": [
       "0.9504447268106735"
      ]
     },
     "execution_count": 19,
     "metadata": {},
     "output_type": "execute_result"
    }
   ],
   "source": [
    "train_preds = logistic.predict(train_inputs)\n",
    "accuracy_score(train_target, train_preds)"
   ]
  },
  {
   "cell_type": "code",
   "execution_count": 20,
   "id": "85999829",
   "metadata": {},
   "outputs": [
    {
     "data": {
      "text/plain": [
       "0.9733333333333334"
      ]
     },
     "execution_count": 20,
     "metadata": {},
     "output_type": "execute_result"
    }
   ],
   "source": [
    "# --- recall score on training dataset ---\n",
    "recall_score(train_preds, train_target)"
   ]
  },
  {
   "cell_type": "code",
   "execution_count": 35,
   "id": "21ecafad",
   "metadata": {},
   "outputs": [
    {
     "data": {
      "text/plain": [
       "0.8877551020408163"
      ]
     },
     "execution_count": 35,
     "metadata": {},
     "output_type": "execute_result"
    }
   ],
   "source": [
    "# --- recall score on test datast ---\n",
    "recall_score(test_target, logistic.predict(test_inputs))"
   ]
  },
  {
   "cell_type": "code",
   "execution_count": 40,
   "id": "30c52173",
   "metadata": {},
   "outputs": [
    {
     "name": "stdout",
     "output_type": "stream",
     "text": [
      "[[96  3]\n",
      " [11 87]]\n"
     ]
    }
   ],
   "source": [
    "print(confusion_matrix(test_target, logistic.predict(test_inputs)))"
   ]
  },
  {
   "cell_type": "markdown",
   "id": "6982421b",
   "metadata": {},
   "source": [
    "## Model fitting on oversampled dataset:"
   ]
  },
  {
   "cell_type": "code",
   "execution_count": 27,
   "id": "6a64adbc",
   "metadata": {},
   "outputs": [],
   "source": [
    "# --------- model fitting for over sampled dataet ------------\n",
    "logistic_oversampled = LogisticRegression(penalty = \"l2\", \n",
    "                                          max_iter = 200, \n",
    "                                          solver = \"saga\").fit(trainInputs, trainTarget)"
   ]
  },
  {
   "cell_type": "code",
   "execution_count": 28,
   "id": "f7ed687d",
   "metadata": {},
   "outputs": [
    {
     "name": "stdout",
     "output_type": "stream",
     "text": [
      "training accuracy: 0.948\n",
      "--------------------\n",
      "test accuracy: 0.948\n"
     ]
    }
   ],
   "source": [
    "print(f'training accuracy: {round(logistic_oversampled.score(trainInputs, trainTarget), 3)}')\n",
    "print('-' * 20)\n",
    "print(f'test accuracy: {round(logistic_oversampled.score(testInputs, testTarget), 3)}')"
   ]
  },
  {
   "cell_type": "code",
   "execution_count": 30,
   "id": "01ddbfbf",
   "metadata": {},
   "outputs": [
    {
     "name": "stdout",
     "output_type": "stream",
     "text": [
      "[[83530  1921]\n",
      " [ 6974 78164]]\n"
     ]
    }
   ],
   "source": [
    "# --- confusion matrix: to see misclassification ---\n",
    "print(confusion_matrix(testTarget, logistic_oversampled.predict(testInputs)))\n",
    "                                   # model.predict(testInputs) <<< y_pred"
   ]
  },
  {
   "cell_type": "code",
   "execution_count": 31,
   "id": "0525a448",
   "metadata": {},
   "outputs": [
    {
     "name": "stdout",
     "output_type": "stream",
     "text": [
      "accuracy: 0.9478571302956228\n"
     ]
    }
   ],
   "source": [
    "print(f\"accuracy: {accuracy_score(testTarget, logistic_oversampled.predict(testInputs))}\")"
   ]
  },
  {
   "cell_type": "code",
   "execution_count": 33,
   "id": "f3de59fe",
   "metadata": {},
   "outputs": [
    {
     "data": {
      "text/plain": [
       "0.9180859310766051"
      ]
     },
     "execution_count": 33,
     "metadata": {},
     "output_type": "execute_result"
    }
   ],
   "source": [
    "# ---- recall score on test data ----\n",
    "recall_score(testTarget, logistic_oversampled.predict(testInputs))"
   ]
  },
  {
   "cell_type": "markdown",
   "id": "08697ea5",
   "metadata": {},
   "source": [
    "## classification report for oversampled dataset:"
   ]
  },
  {
   "cell_type": "code",
   "execution_count": 38,
   "id": "56664839",
   "metadata": {},
   "outputs": [
    {
     "name": "stdout",
     "output_type": "stream",
     "text": [
      "              precision    recall  f1-score   support\n",
      "\n",
      "           0       0.92      0.98      0.95     85451\n",
      "           1       0.98      0.92      0.95     85138\n",
      "\n",
      "    accuracy                           0.95    170589\n",
      "   macro avg       0.95      0.95      0.95    170589\n",
      "weighted avg       0.95      0.95      0.95    170589\n",
      "\n"
     ]
    }
   ],
   "source": [
    "print(classification_report(testTarget, logistic_oversampled.predict(testInputs)))"
   ]
  },
  {
   "cell_type": "markdown",
   "id": "0a018df8",
   "metadata": {},
   "source": [
    "## Classification report for undersampled dataset:"
   ]
  },
  {
   "cell_type": "code",
   "execution_count": 39,
   "id": "52ae74e4",
   "metadata": {},
   "outputs": [
    {
     "name": "stdout",
     "output_type": "stream",
     "text": [
      "              precision    recall  f1-score   support\n",
      "\n",
      "           0       0.90      0.97      0.93        99\n",
      "           1       0.97      0.89      0.93        98\n",
      "\n",
      "    accuracy                           0.93       197\n",
      "   macro avg       0.93      0.93      0.93       197\n",
      "weighted avg       0.93      0.93      0.93       197\n",
      "\n"
     ]
    }
   ],
   "source": [
    "print(classification_report(test_target, logistic.predict(test_inputs)))"
   ]
  },
  {
   "cell_type": "markdown",
   "id": "841aa3c1",
   "metadata": {},
   "source": [
    "## ROC Curve for both sampled datasets:\n",
    "\n",
    "\n",
    "### Undersampled data:"
   ]
  },
  {
   "cell_type": "code",
   "execution_count": 45,
   "id": "9d8f0652",
   "metadata": {},
   "outputs": [],
   "source": [
    "# --- first undersampled data ---\n",
    "fpr, tpr, _ = roc_curve(test_target, logistic.predict_proba(test_inputs)[:, 1])"
   ]
  },
  {
   "cell_type": "code",
   "execution_count": 60,
   "id": "9f911a10",
   "metadata": {},
   "outputs": [
    {
     "data": {
      "image/png": "[encoded data removed]",
      "text/plain": [
       "<Figure size 640x400 with 1 Axes>"
      ]
     },
     "metadata": {
      "needs_background": "light"
     },
     "output_type": "display_data"
    }
   ],
   "source": [
    "plt.figure(figsize = (8, 5), dpi = 80)\n",
    "plt.plot(fpr, tpr, marker = '.', label = 'logistic', color = \"teal\", linewidth = 2)\n",
    "plt.xlabel(\"False positive rate\")\n",
    "plt.ylabel(\"True positive rate\")\n",
    "plt.legend()\n",
    "plt.title(\"ROC curve for the model: Under sampled datast\", pad = -40)\n",
    "plt.tight_layout()\n",
    "plt.show()"
   ]
  },
  {
   "cell_type": "markdown",
   "id": "d3c0cce6",
   "metadata": {},
   "source": [
    "### Oversampled dataset:"
   ]
  },
  {
   "cell_type": "code",
   "execution_count": 61,
   "id": "360e833a",
   "metadata": {},
   "outputs": [],
   "source": [
    "# ---- ROC curve for oversampled dataset ---\n",
    "fpr_over, tpr_over, _ = roc_curve(testTarget, logistic_oversampled.predict_proba(testInputs)[:, 1]) "
   ]
  },
  {
   "cell_type": "code",
   "execution_count": 63,
   "id": "1d4f2044",
   "metadata": {},
   "outputs": [
    {
     "data": {
      "image/png": "[encoded data removed]",
      "text/plain": [
       "<Figure size 640x400 with 1 Axes>"
      ]
     },
     "metadata": {
      "needs_background": "light"
     },
     "output_type": "display_data"
    }
   ],
   "source": [
    "plt.figure(figsize=(8, 5), dpi = 80)\n",
    "plt.title(\"ROC curve for the model: Over sampled dataset\", pad = -40)\n",
    "plt.plot(fpr, tpr, marker = '.', label = \"logistic\", color = 'plum', linewidth = 2)\n",
    "plt.xlabel(\"False positive rate\")\n",
    "plt.ylabel(\"True positive rate\")\n",
    "plt.legend()\n",
    "plt.tight_layout();"
   ]
  },
  {
   "cell_type": "code",
   "execution_count": null,
   "id": "a187d8c1",
   "metadata": {},
   "outputs": [],
   "source": []
  }
 ],
 "metadata": {
  "kernelspec": {
   "display_name": "Python 3",
   "language": "python",
   "name": "python3"
  },
  "language_info": {
   "codemirror_mode": {
    "name": "ipython",
    "version": 3
   },
   "file_extension": ".py",
   "mimetype": "text/x-python",
   "name": "python",
   "nbconvert_exporter": "python",
   "pygments_lexer": "ipython3",
   "version": "3.8.12"
  }
 },
 "nbformat": 4,
 "nbformat_minor": 5
}
