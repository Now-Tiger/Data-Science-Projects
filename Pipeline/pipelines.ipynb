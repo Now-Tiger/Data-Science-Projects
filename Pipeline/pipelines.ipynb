{
 "cells": [
  {
   "cell_type": "code",
   "execution_count": 1,
   "id": "7e946256",
   "metadata": {},
   "outputs": [],
   "source": [
    "import pandas as pd \n",
    "import numpy as np\n",
    "from sklearn.model_selection import train_test_split as tts\n",
    "from warnings import filterwarnings\n",
    "filterwarnings('ignore')"
   ]
  },
  {
   "cell_type": "code",
   "execution_count": 2,
   "id": "f32e4121",
   "metadata": {},
   "outputs": [
    {
     "data": {
      "text/html": [
       "<div>\n",
       "<style scoped>\n",
       "    .dataframe tbody tr th:only-of-type {\n",
       "        vertical-align: middle;\n",
       "    }\n",
       "\n",
       "    .dataframe tbody tr th {\n",
       "        vertical-align: top;\n",
       "    }\n",
       "\n",
       "    .dataframe thead th {\n",
       "        text-align: right;\n",
       "    }\n",
       "</style>\n",
       "<table border=\"1\" class=\"dataframe\">\n",
       "  <thead>\n",
       "    <tr style=\"text-align: right;\">\n",
       "      <th></th>\n",
       "      <th>Pregnancies</th>\n",
       "      <th>Glucose</th>\n",
       "      <th>BloodPressure</th>\n",
       "      <th>SkinThickness</th>\n",
       "      <th>Insulin</th>\n",
       "      <th>BMI</th>\n",
       "      <th>DiabetesPedigreeFunction</th>\n",
       "      <th>Age</th>\n",
       "      <th>Class</th>\n",
       "    </tr>\n",
       "  </thead>\n",
       "  <tbody>\n",
       "    <tr>\n",
       "      <th>0</th>\n",
       "      <td>6</td>\n",
       "      <td>148</td>\n",
       "      <td>72</td>\n",
       "      <td>35</td>\n",
       "      <td>0</td>\n",
       "      <td>33.6</td>\n",
       "      <td>0.627</td>\n",
       "      <td>50</td>\n",
       "      <td>1</td>\n",
       "    </tr>\n",
       "    <tr>\n",
       "      <th>1</th>\n",
       "      <td>1</td>\n",
       "      <td>85</td>\n",
       "      <td>66</td>\n",
       "      <td>29</td>\n",
       "      <td>0</td>\n",
       "      <td>26.6</td>\n",
       "      <td>0.351</td>\n",
       "      <td>31</td>\n",
       "      <td>0</td>\n",
       "    </tr>\n",
       "    <tr>\n",
       "      <th>2</th>\n",
       "      <td>8</td>\n",
       "      <td>183</td>\n",
       "      <td>64</td>\n",
       "      <td>0</td>\n",
       "      <td>0</td>\n",
       "      <td>23.3</td>\n",
       "      <td>0.672</td>\n",
       "      <td>32</td>\n",
       "      <td>1</td>\n",
       "    </tr>\n",
       "    <tr>\n",
       "      <th>3</th>\n",
       "      <td>1</td>\n",
       "      <td>89</td>\n",
       "      <td>66</td>\n",
       "      <td>23</td>\n",
       "      <td>94</td>\n",
       "      <td>28.1</td>\n",
       "      <td>0.167</td>\n",
       "      <td>21</td>\n",
       "      <td>0</td>\n",
       "    </tr>\n",
       "    <tr>\n",
       "      <th>4</th>\n",
       "      <td>0</td>\n",
       "      <td>137</td>\n",
       "      <td>40</td>\n",
       "      <td>35</td>\n",
       "      <td>168</td>\n",
       "      <td>43.1</td>\n",
       "      <td>2.288</td>\n",
       "      <td>33</td>\n",
       "      <td>1</td>\n",
       "    </tr>\n",
       "    <tr>\n",
       "      <th>5</th>\n",
       "      <td>5</td>\n",
       "      <td>116</td>\n",
       "      <td>74</td>\n",
       "      <td>0</td>\n",
       "      <td>0</td>\n",
       "      <td>25.6</td>\n",
       "      <td>0.201</td>\n",
       "      <td>30</td>\n",
       "      <td>0</td>\n",
       "    </tr>\n",
       "    <tr>\n",
       "      <th>6</th>\n",
       "      <td>3</td>\n",
       "      <td>78</td>\n",
       "      <td>50</td>\n",
       "      <td>32</td>\n",
       "      <td>88</td>\n",
       "      <td>31.0</td>\n",
       "      <td>0.248</td>\n",
       "      <td>26</td>\n",
       "      <td>1</td>\n",
       "    </tr>\n",
       "    <tr>\n",
       "      <th>7</th>\n",
       "      <td>10</td>\n",
       "      <td>115</td>\n",
       "      <td>0</td>\n",
       "      <td>0</td>\n",
       "      <td>0</td>\n",
       "      <td>35.3</td>\n",
       "      <td>0.134</td>\n",
       "      <td>29</td>\n",
       "      <td>0</td>\n",
       "    </tr>\n",
       "    <tr>\n",
       "      <th>8</th>\n",
       "      <td>2</td>\n",
       "      <td>197</td>\n",
       "      <td>70</td>\n",
       "      <td>45</td>\n",
       "      <td>543</td>\n",
       "      <td>30.5</td>\n",
       "      <td>0.158</td>\n",
       "      <td>53</td>\n",
       "      <td>1</td>\n",
       "    </tr>\n",
       "    <tr>\n",
       "      <th>9</th>\n",
       "      <td>8</td>\n",
       "      <td>125</td>\n",
       "      <td>96</td>\n",
       "      <td>0</td>\n",
       "      <td>0</td>\n",
       "      <td>0.0</td>\n",
       "      <td>0.232</td>\n",
       "      <td>54</td>\n",
       "      <td>1</td>\n",
       "    </tr>\n",
       "  </tbody>\n",
       "</table>\n",
       "</div>"
      ],
      "text/plain": [
       "   Pregnancies  Glucose  BloodPressure  SkinThickness  Insulin   BMI  \\\n",
       "0            6      148             72             35        0  33.6   \n",
       "1            1       85             66             29        0  26.6   \n",
       "2            8      183             64              0        0  23.3   \n",
       "3            1       89             66             23       94  28.1   \n",
       "4            0      137             40             35      168  43.1   \n",
       "5            5      116             74              0        0  25.6   \n",
       "6            3       78             50             32       88  31.0   \n",
       "7           10      115              0              0        0  35.3   \n",
       "8            2      197             70             45      543  30.5   \n",
       "9            8      125             96              0        0   0.0   \n",
       "\n",
       "   DiabetesPedigreeFunction  Age  Class  \n",
       "0                     0.627   50      1  \n",
       "1                     0.351   31      0  \n",
       "2                     0.672   32      1  \n",
       "3                     0.167   21      0  \n",
       "4                     2.288   33      1  \n",
       "5                     0.201   30      0  \n",
       "6                     0.248   26      1  \n",
       "7                     0.134   29      0  \n",
       "8                     0.158   53      1  \n",
       "9                     0.232   54      1  "
      ]
     },
     "execution_count": 2,
     "metadata": {},
     "output_type": "execute_result"
    }
   ],
   "source": [
    "data = pd.read_csv('../data/pima-indians-diabetes.csv', header = None)\n",
    "data.columns = [\"Pregnancies\",\"Glucose\",\"BloodPressure\",\"SkinThickness\",\"Insulin\",\"BMI\", \"DiabetesPedigreeFunction\",\n",
    "                \"Age\",\"Class\"]\n",
    "data.head(10)"
   ]
  },
  {
   "cell_type": "code",
   "execution_count": 3,
   "id": "99027a7b",
   "metadata": {},
   "outputs": [
    {
     "data": {
      "text/plain": [
       "0    500\n",
       "1    268\n",
       "Name: Class, dtype: int64"
      ]
     },
     "execution_count": 3,
     "metadata": {},
     "output_type": "execute_result"
    }
   ],
   "source": [
    "data['Class'].value_counts()"
   ]
  },
  {
   "cell_type": "code",
   "execution_count": 4,
   "id": "ed8bd155",
   "metadata": {},
   "outputs": [
    {
     "data": {
      "text/plain": [
       "((768,), (768, 8))"
      ]
     },
     "execution_count": 4,
     "metadata": {},
     "output_type": "execute_result"
    }
   ],
   "source": [
    "y = data.pop('Class')\n",
    "X = data\n",
    "\n",
    "y.shape, X.shape"
   ]
  },
  {
   "cell_type": "code",
   "execution_count": 5,
   "id": "c13f084e",
   "metadata": {},
   "outputs": [
    {
     "name": "stdout",
     "output_type": "stream",
     "text": [
      "(576, 8) (576,)\n",
      "(192, 8) (192,)\n"
     ]
    }
   ],
   "source": [
    "trainInputs, testInputs, trainTarget, testTarget = tts(X, y, test_size = .25, random_state = 42, stratify = y)\n",
    "print(trainInputs.shape, trainTarget.shape)\n",
    "print(testInputs.shape, testTarget.shape)"
   ]
  },
  {
   "cell_type": "code",
   "execution_count": 6,
   "id": "5b413dd3",
   "metadata": {},
   "outputs": [],
   "source": [
    "from sklearn.ensemble import GradientBoostingClassifier, RandomForestClassifier\n",
    "from sklearn.linear_model import LogisticRegression\n",
    "from sklearn.tree import DecisionTreeClassifier \n",
    "from sklearn.neighbors import KNeighborsClassifier\n",
    "from sklearn.svm import LinearSVC"
   ]
  },
  {
   "cell_type": "code",
   "execution_count": 7,
   "id": "0c4b1f3f",
   "metadata": {},
   "outputs": [],
   "source": [
    "grbt = GradientBoostingClassifier(random_state = 0, max_depth = 1).fit(trainInputs, trainTarget)\n",
    "# -----------\n",
    "forest = RandomForestClassifier().fit(trainInputs, trainTarget)\n",
    "# -----------\n",
    "logistic = LogisticRegression(C = 100).fit(trainInputs, trainTarget)\n",
    "# -----------\n",
    "tree = DecisionTreeClassifier(random_state = 0).fit(trainInputs, trainTarget)\n",
    "# -----------\n",
    "knn = KNeighborsClassifier(n_neighbors = 3).fit(trainInputs, trainTarget)\n",
    "# -----------\n",
    "svm = LinearSVC(C = 100).fit(trainInputs, trainTarget)"
   ]
  },
  {
   "cell_type": "code",
   "execution_count": 8,
   "id": "775846cd",
   "metadata": {},
   "outputs": [
    {
     "name": "stdout",
     "output_type": "stream",
     "text": [
      "Gradient : Train accuracy : 0.81                   Test accuracy : 0.73\n",
      "RandomForest : Train accuracy : 1.0                Test accuracy : 0.74\n",
      "Logistic : Train accuracy : 0.8                    Test accuracy : 0.73\n",
      "DecisionTree : Train accuracy : 1.0                Test accuracy : 0.7\n",
      "Kneighbors : Train accuracy : 0.86                 Test accuracy : 0.7\n",
      "SVM : Train accuracy : 0.67                        Test accuracy : 0.65\n"
     ]
    }
   ],
   "source": [
    "print(f'Gradient : Train accuracy : {round(grbt.score(trainInputs, trainTarget), 2)} \\\n",
    "                  Test accuracy : {round(grbt.score(testInputs, testTarget), 2)}')\n",
    "\n",
    "print(f'RandomForest : Train accuracy : {round(forest.score(trainInputs, trainTarget), 2)} \\\n",
    "               Test accuracy : {round(forest.score(testInputs, testTarget), 2)}')\n",
    "\n",
    "print(f'Logistic : Train accuracy : {round(logistic.score(trainInputs, trainTarget), 2)} \\\n",
    "                   Test accuracy : {round(logistic.score(testInputs, testTarget), 2)}')\n",
    " \n",
    "print(f'DecisionTree : Train accuracy : {round(tree.score(trainInputs, trainTarget), 2)} \\\n",
    "               Test accuracy : {round(tree.score(testInputs, testTarget), 2)}')\n",
    "\n",
    "print(f'Kneighbors : Train accuracy : {round(knn.score(trainInputs, trainTarget), 2)} \\\n",
    "                Test accuracy : {round(knn.score(testInputs, testTarget), 2)}')\n",
    "\n",
    "print(f'SVM : Train accuracy : {round(svm.score(trainInputs, trainTarget), 2)} \\\n",
    "                       Test accuracy : {round(svm.score(testInputs, testTarget), 2)}')\n"
   ]
  },
  {
   "cell_type": "markdown",
   "id": "d646c6eb",
   "metadata": {},
   "source": [
    "## Pipeline setup :"
   ]
  },
  {
   "cell_type": "code",
   "execution_count": 9,
   "id": "8875574e",
   "metadata": {},
   "outputs": [],
   "source": [
    "from sklearn.preprocessing import MinMaxScaler\n",
    "from sklearn.decomposition import PCA\n",
    "from sklearn.pipeline import Pipeline"
   ]
  },
  {
   "cell_type": "code",
   "execution_count": 10,
   "id": "7d495e4c",
   "metadata": {},
   "outputs": [],
   "source": [
    "# 1. LogisticRegression Pipeline :\n",
    "LogisticPipeline = Pipeline([('scaler', MinMaxScaler()), ('pca', PCA(n_components = 3)), ('logistic', LogisticRegression())])\n",
    "\n",
    "# 2. DecisionTree Pipeline :\n",
    "TreePipeline = Pipeline([('scaler', MinMaxScaler()), ('pca', PCA(n_components = 3)), ('tree', DecisionTreeClassifier())])\n",
    "\n",
    "# 3. RandomForest Classifier Pipeline\n",
    "ForestPipeline = Pipeline([('scaler', MinMaxScaler()), ('pca', PCA(n_components = 3)), ('forest', RandomForestClassifier())])\n",
    "\n",
    "# 4. KNeighbors Pipeline :\n",
    "KnnPipeline = Pipeline([('scaler', MinMaxScaler()), ('pca', PCA(n_components = 3)), ('knn', KNeighborsClassifier())])\n"
   ]
  },
  {
   "cell_type": "markdown",
   "id": "5a476d48",
   "metadata": {},
   "source": [
    "## Model training & evaluation :"
   ]
  },
  {
   "cell_type": "code",
   "execution_count": 11,
   "id": "7bdd1acb",
   "metadata": {},
   "outputs": [],
   "source": [
    "# ---------------------- Defining pipeline in a list ----------------------------\n",
    "mypipeline = [LogisticPipeline, TreePipeline, ForestPipeline, KnnPipeline]\n",
    "\n",
    "# ------------------ variables for choosing best mode ---------------------------\n",
    "accuracy = .0\n",
    "classifier = 0\n",
    "pipeline = ''"
   ]
  },
  {
   "cell_type": "code",
   "execution_count": 12,
   "id": "e09f7f65",
   "metadata": {},
   "outputs": [],
   "source": [
    "# ---------- Creating dictionary of pipelines and training model ----------------\n",
    "pipelineDict = {0 : 'Logistic Regression', 1 : 'Decision Tree', 2 : 'Random Forest', 3 : 'Knn'}\n",
    "\n",
    "# ------------ fit the model -------------\n",
    "for pipe in mypipeline :\n",
    "    pipe.fit(trainInputs, trainTarget)"
   ]
  },
  {
   "cell_type": "code",
   "execution_count": 13,
   "id": "22654bf8",
   "metadata": {},
   "outputs": [
    {
     "name": "stdout",
     "output_type": "stream",
     "text": [
      "Logistic Regression -> Test accuracy : 0.72\n",
      "Decision Tree -> Test accuracy : 0.69\n",
      "Random Forest -> Test accuracy : 0.71\n",
      "Knn -> Test accuracy : 0.7\n"
     ]
    }
   ],
   "source": [
    "# ------------ getting the accuracy score for all models --------------\n",
    "\n",
    "for i, model in enumerate(mypipeline) :\n",
    "    print(f\"{pipelineDict[i]} -> Test accuracy : {round(model.score(testInputs, testTarget), 2)}\")"
   ]
  },
  {
   "cell_type": "code",
   "execution_count": 17,
   "id": "503daa50",
   "metadata": {},
   "outputs": [
    {
     "name": "stdout",
     "output_type": "stream",
     "text": [
      "Classifier with best accuracy : Logistic Regression\n"
     ]
    }
   ],
   "source": [
    "# ------------ Choosing best model for the given data ----------------\n",
    "for i, model in enumerate(mypipeline):\n",
    "    if model.score(testInputs, testTarget) > accuracy:\n",
    "        accuracy = model.score(testInputs, testTarget)\n",
    "        pipeline = model\n",
    "        classifier = i\n",
    "print('Classifier with best accuracy : {}'.format(pipelineDict[classifier]))"
   ]
  },
  {
   "cell_type": "code",
   "execution_count": null,
   "id": "6ed530e5",
   "metadata": {},
   "outputs": [],
   "source": []
  }
 ],
 "metadata": {
  "kernelspec": {
   "display_name": "Python 3",
   "language": "python",
   "name": "python3"
  },
  "language_info": {
   "codemirror_mode": {
    "name": "ipython",
    "version": 3
   },
   "file_extension": ".py",
   "mimetype": "text/x-python",
   "name": "python",
   "nbconvert_exporter": "python",
   "pygments_lexer": "ipython3",
   "version": "3.8.12"
  }
 },
 "nbformat": 4,
 "nbformat_minor": 5
}
